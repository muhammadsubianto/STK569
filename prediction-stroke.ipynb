{
 "cells": [
  {
   "cell_type": "markdown",
   "metadata": {},
   "source": [
    "# Prediction Stroke"
   ]
  },
  {
   "cell_type": "code",
   "execution_count": null,
   "metadata": {},
   "outputs": [],
   "source": [
    "# To make sure all of the correct libraries are installed, import each module and print the version number\n",
    "# Check versions of the libraries\n",
    "import sys\n",
    "import numpy\n",
    "import pandas\n",
    "\n",
    "print('Python:     {}'.format(sys.version))\n",
    "print('numpy:      {}'.format(numpy.__version__))\n",
    "print('pandas:     {}'.format(pandas.__version__))"
   ]
  },
  {
   "cell_type": "code",
   "execution_count": null,
   "metadata": {},
   "outputs": [],
   "source": [
    "import pandas as pd\n",
    "import numpy as np"
   ]
  },
  {
   "cell_type": "code",
   "execution_count": null,
   "metadata": {},
   "outputs": [],
   "source": [
    "df=pd.read_csv(\"data/healthcare-dataset-stroke-data.csv\")"
   ]
  },
  {
   "cell_type": "code",
   "execution_count": null,
   "metadata": {},
   "outputs": [],
   "source": [
    "df.shape"
   ]
  },
  {
   "cell_type": "code",
   "execution_count": null,
   "metadata": {},
   "outputs": [],
   "source": [
    "df.head()"
   ]
  },
  {
   "cell_type": "code",
   "execution_count": null,
   "metadata": {},
   "outputs": [],
   "source": [
    "df.columns"
   ]
  },
  {
   "cell_type": "code",
   "execution_count": null,
   "metadata": {},
   "outputs": [],
   "source": [
    "# drop id variabel\n",
    "df = df.drop('id', axis = 1)\n",
    "df.head()"
   ]
  },
  {
   "cell_type": "code",
   "execution_count": null,
   "metadata": {},
   "outputs": [],
   "source": [
    "df.describe()"
   ]
  },
  {
   "cell_type": "code",
   "execution_count": null,
   "metadata": {},
   "outputs": [],
   "source": [
    "df.isnull().sum().sort_values(ascending=False)"
   ]
  },
  {
   "cell_type": "code",
   "execution_count": null,
   "metadata": {},
   "outputs": [],
   "source": [
    "#mengatasi missing value dengan median pada variabel MonthlyCharges dan TotalCharges\n",
    "columns = ['bmi']\n",
    "for i in columns:\n",
    "    median = df[i].median()\n",
    "    df[i].fillna(median, inplace=True)"
   ]
  },
  {
   "cell_type": "code",
   "execution_count": null,
   "metadata": {},
   "outputs": [],
   "source": [
    "#memeriksa kembali data\n",
    "df.isnull().sum().sort_values(ascending=False)"
   ]
  },
  {
   "cell_type": "code",
   "execution_count": null,
   "metadata": {},
   "outputs": [],
   "source": [
    "#deteksi nilai yang tidak standar\n",
    "columns = ['gender', 'hypertension', 'heart_disease', 'ever_married',\n",
    "       'work_type', 'Residence_type','smoking_status', 'stroke']\n",
    "\n",
    "for i in columns:\n",
    "    print('Nilai unik dari variabel {},' .format(i))\n",
    "    print(df[i].value_counts())\n",
    "    print('\\n')"
   ]
  },
  {
   "cell_type": "code",
   "execution_count": null,
   "metadata": {},
   "outputs": [],
   "source": [
    "import matplotlib.pyplot as plt\n",
    "import seaborn as sns"
   ]
  },
  {
   "cell_type": "code",
   "execution_count": null,
   "metadata": {},
   "outputs": [],
   "source": [
    "#membuat pie chart 'stroke'\n",
    "plt.figure(figsize=(5,5))\n",
    "plt.pie(df['stroke'].value_counts(), colors=['khaki','brown'],\n",
    "        labels=['0','1'], autopct='%.2f%%')\n",
    "plt.title('Persentase Stroke', loc='left', fontsize=15)\n",
    "plt.show()"
   ]
  },
  {
   "cell_type": "code",
   "execution_count": null,
   "metadata": {},
   "outputs": [],
   "source": [
    "#histogram 'gender','ever_married','work_type'\n",
    "fig, ax=plt.subplots(1,3,figsize=(20,6))\n",
    "sns.countplot(x='gender',hue='stroke',data=df,ax=ax[0])\n",
    "sns.countplot(x='ever_married',hue='stroke',data=df,ax=ax[1])\n",
    "sns.countplot(x='work_type',hue='stroke',data=df,ax=ax[2])"
   ]
  },
  {
   "cell_type": "code",
   "execution_count": null,
   "metadata": {},
   "outputs": [],
   "source": [
    "fig, ax=plt.subplots(1,2,figsize=(20,6))\n",
    "sns.countplot(x='hypertension',hue='stroke',data=df,ax=ax[0])\n",
    "sns.countplot(x='heart_disease',hue='stroke',data=df,ax=ax[1])"
   ]
  },
  {
   "cell_type": "code",
   "execution_count": null,
   "metadata": {
    "scrolled": true
   },
   "outputs": [],
   "source": [
    "fig, ax=plt.subplots(1,3,figsize=(20,6))\n",
    "sns.countplot(x='Residence_type',hue='stroke',data=df,ax=ax[0])\n",
    "sns.countplot(x='smoking_status',hue='stroke',data=df,ax=ax[1])\n",
    "sns.countplot(x='heart_disease',hue='stroke',data=df,ax=ax[2])"
   ]
  },
  {
   "cell_type": "code",
   "execution_count": null,
   "metadata": {},
   "outputs": [],
   "source": [
    "sns.set()\n",
    "features = ['age','avg_glucose_level','bmi']\n",
    "fig, ax = plt.subplots(figsize=(8,6))\n",
    "plt.subplots_adjust(right=2, top=2)\n",
    "for i, n in enumerate(features,1):\n",
    "    plt.subplot(2,2,i)\n",
    "    sns.boxplot(x=df[n])\n",
    "    plt.xlabel('{}'.format(n), labelpad=10, size=15)\n",
    "    plt.tick_params(axis='x', labelsize=15, size=8)\n",
    "    plt.tick_params(axis='y', labelsize=15, size=8)\n",
    "    plt.title('Boxplot {} '.format(n), y=1, size=15)\n",
    "plt.show()"
   ]
  },
  {
   "cell_type": "code",
   "execution_count": null,
   "metadata": {},
   "outputs": [],
   "source": [
    "corrMatrix = df.corr()\n",
    "sns.heatmap(corrMatrix, annot=True)\n",
    "plt.title('Correlation Matrix', loc='center', fontsize=15)\n",
    "plt.show()"
   ]
  },
  {
   "cell_type": "markdown",
   "metadata": {},
   "source": [
    "# Encoding data"
   ]
  },
  {
   "cell_type": "code",
   "execution_count": null,
   "metadata": {},
   "outputs": [],
   "source": [
    "from sklearn.preprocessing import LabelEncoder"
   ]
  },
  {
   "cell_type": "code",
   "execution_count": null,
   "metadata": {},
   "outputs": [],
   "source": [
    "# encoding data\n",
    "for i in df.columns:\n",
    "    if df[i].dtype == np.number:\n",
    "        continue\n",
    "    df[i]=LabelEncoder().fit_transform(df[i])\n",
    "df.head()"
   ]
  },
  {
   "cell_type": "code",
   "execution_count": null,
   "metadata": {},
   "outputs": [],
   "source": [
    "from sklearn.model_selection import train_test_split"
   ]
  },
  {
   "cell_type": "code",
   "execution_count": null,
   "metadata": {},
   "outputs": [],
   "source": [
    "x = df.drop(columns = 'stroke')\n",
    "y = df['stroke']"
   ]
  },
  {
   "cell_type": "code",
   "execution_count": null,
   "metadata": {},
   "outputs": [],
   "source": [
    "x_train, x_test, y_train, y_test = train_test_split(x,y, test_size = 0.3, random_state = 3)\n",
    "print(\"train set :\", x_train.shape, y_train.shape)\n",
    "print(\"test set : \", x_test.shape, y_test.shape)"
   ]
  },
  {
   "cell_type": "markdown",
   "metadata": {},
   "source": [
    "# Data Modelling"
   ]
  },
  {
   "cell_type": "code",
   "execution_count": null,
   "metadata": {},
   "outputs": [],
   "source": [
    "from sklearn.tree import DecisionTreeClassifier #model 1\n",
    "from sklearn.linear_model import LogisticRegression #model 2\n",
    "from sklearn.ensemble import RandomForestClassifier #model 3\n",
    "\n",
    "#menghitung akurasi \n",
    "from sklearn.metrics import classification_report\n",
    "from sklearn.metrics import accuracy_score\n",
    "\n",
    "#menampilkan confusion matriks\n",
    "from sklearn.metrics import confusion_matrix"
   ]
  },
  {
   "cell_type": "markdown",
   "metadata": {},
   "source": [
    "# Decision Tree"
   ]
  },
  {
   "cell_type": "code",
   "execution_count": null,
   "metadata": {},
   "outputs": [],
   "source": [
    "#model 1\n",
    "dt=DecisionTreeClassifier().fit(x_train,y_train)"
   ]
  },
  {
   "cell_type": "code",
   "execution_count": null,
   "metadata": {},
   "outputs": [],
   "source": [
    "#hasil prediksi dan klasifikasi\n",
    "y_test_pred=dt.predict(x_test)\n",
    "print(classification_report(y_test, y_test_pred))\n",
    "akurasi=accuracy_score(y_test, y_test_pred)*100\n",
    "print('Akurasi = %.2f'%akurasi)"
   ]
  },
  {
   "cell_type": "code",
   "execution_count": null,
   "metadata": {},
   "outputs": [],
   "source": [
    "#confusion matriks dari data frame\n",
    "confusion_matrix_df=pd.DataFrame((confusion_matrix(y_test, y_test_pred)),\n",
    "                                 ('No Sroke', 'Stroke'),('No Sroke', 'Stroke'))"
   ]
  },
  {
   "cell_type": "code",
   "execution_count": null,
   "metadata": {},
   "outputs": [],
   "source": [
    "#plot cunfusion matrrix\n",
    "plt.figure()\n",
    "heatmap=sns.heatmap(confusion_matrix_df, annot=True, annot_kws={'size':14}, fmt='d', cmap='YlGnBu')\n",
    "heatmap.yaxis.set_ticklabels(heatmap.yaxis.get_ticklabels(), rotation=0, ha='right', fontsize=14)\n",
    "heatmap.xaxis.set_ticklabels(heatmap.xaxis.get_ticklabels(), rotation=0, ha='right', fontsize=14)\n",
    "\n",
    "plt.title('Confusion Matrix dari Model Data Testing\\n(Decision Tree)', fontsize=18, color='darkblue')\n",
    "plt.ylabel('True Label', fontsize=14)\n",
    "plt.xlabel('Predicted Label', fontsize=14)\n",
    "plt.show()"
   ]
  },
  {
   "cell_type": "markdown",
   "metadata": {},
   "source": [
    "# Regresi Logistik"
   ]
  },
  {
   "cell_type": "code",
   "execution_count": null,
   "metadata": {},
   "outputs": [],
   "source": [
    "#model 2\n",
    "#algoritma regresi logistik\n",
    "lr=LogisticRegression().fit(x_train, y_train)\n",
    "lr"
   ]
  },
  {
   "cell_type": "code",
   "execution_count": null,
   "metadata": {},
   "outputs": [],
   "source": [
    "#hasil prediksi dan klasifikasi\n",
    "y_test_pred2=lr.predict(x_test)\n",
    "print(classification_report(y_test, y_test_pred2))\n",
    "akurasi2=accuracy_score(y_test, y_test_pred2)*100\n",
    "print('Akurasi = %.2f'%akurasi2)"
   ]
  },
  {
   "cell_type": "code",
   "execution_count": null,
   "metadata": {},
   "outputs": [],
   "source": [
    "#confusion matriks dari data frame\n",
    "confusion_matrix_df=pd.DataFrame((confusion_matrix(y_test, y_test_pred2)),\n",
    "                                 ('No Sroke', 'Stroke'),('No Sroke', 'Stroke'))"
   ]
  },
  {
   "cell_type": "code",
   "execution_count": null,
   "metadata": {},
   "outputs": [],
   "source": [
    "#plot cunfusion matrrix\n",
    "plt.figure()\n",
    "heatmap=sns.heatmap(confusion_matrix_df, annot=True, annot_kws={'size':14}, fmt='d', cmap='YlGnBu')\n",
    "heatmap.yaxis.set_ticklabels(heatmap.yaxis.get_ticklabels(), rotation=0, ha='right', fontsize=14)\n",
    "heatmap.xaxis.set_ticklabels(heatmap.xaxis.get_ticklabels(), rotation=0, ha='right', fontsize=14)\n",
    "\n",
    "plt.title('Confusion Matrix dari Model Data Testing\\n(Regresi Logistik)', fontsize=18, color='darkblue')\n",
    "plt.ylabel('True Label', fontsize=14)\n",
    "plt.xlabel('Predicted Label', fontsize=14)\n",
    "plt.show()"
   ]
  },
  {
   "cell_type": "markdown",
   "metadata": {},
   "source": [
    "# Random Forest"
   ]
  },
  {
   "cell_type": "code",
   "execution_count": null,
   "metadata": {},
   "outputs": [],
   "source": [
    "#model 3\n",
    "rdf=RandomForestClassifier().fit(x_train, y_train)\n",
    "rdf "
   ]
  },
  {
   "cell_type": "code",
   "execution_count": null,
   "metadata": {},
   "outputs": [],
   "source": [
    "#hasil prediksi dan klasifikasi\n",
    "y_test_pred3=rdf.predict(x_test)\n",
    "print(classification_report(y_test, y_test_pred3))\n",
    "akurasi3=accuracy_score(y_test, y_test_pred3)*100\n",
    "print('Akurasi = %.2f'%akurasi3)"
   ]
  },
  {
   "cell_type": "code",
   "execution_count": null,
   "metadata": {},
   "outputs": [],
   "source": [
    "#confusion matriks dari data frame\n",
    "confusion_matrix_df=pd.DataFrame((confusion_matrix(y_test, y_test_pred3)),\n",
    "                                 ('No Sroke', 'Stroke'),('No Sroke', 'Stroke'))"
   ]
  },
  {
   "cell_type": "code",
   "execution_count": null,
   "metadata": {},
   "outputs": [],
   "source": [
    "#plot cunfusion matrrix\n",
    "plt.figure()\n",
    "heatmap=sns.heatmap(confusion_matrix_df, annot=True, annot_kws={'size':14}, fmt='d', cmap='YlGnBu')\n",
    "heatmap.yaxis.set_ticklabels(heatmap.yaxis.get_ticklabels(), rotation=0, ha='right', fontsize=14)\n",
    "heatmap.xaxis.set_ticklabels(heatmap.xaxis.get_ticklabels(), rotation=0, ha='right', fontsize=14)\n",
    "\n",
    "plt.title('Confusion Matrix dari Model Data Testing\\n(Random Forest)', fontsize=18, color='darkblue')\n",
    "plt.ylabel('True Label', fontsize=14)\n",
    "plt.xlabel('Predicted Label', fontsize=14)\n",
    "plt.show()"
   ]
  }
 ],
 "metadata": {
  "kernelspec": {
   "display_name": "Python 3 (ipykernel)",
   "language": "python",
   "name": "python3"
  },
  "language_info": {
   "codemirror_mode": {
    "name": "ipython",
    "version": 3
   },
   "file_extension": ".py",
   "mimetype": "text/x-python",
   "name": "python",
   "nbconvert_exporter": "python",
   "pygments_lexer": "ipython3",
   "version": "3.9.7"
  }
 },
 "nbformat": 4,
 "nbformat_minor": 2
}
